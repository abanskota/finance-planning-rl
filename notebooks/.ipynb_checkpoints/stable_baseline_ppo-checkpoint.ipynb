{
 "cells": [
  {
   "cell_type": "code",
   "execution_count": null,
   "id": "835eec56-c354-4205-8dcf-e5a6f525c34e",
   "metadata": {},
   "outputs": [],
   "source": [
    "import sys\n",
    "sys.path.append('/Users/asim/Desktop/planning/finance-planning-rl/src')"
   ]
  },
  {
   "cell_type": "code",
   "execution_count": null,
   "id": "bc518459-fd59-4686-acd3-ba5d2b536c73",
   "metadata": {},
   "outputs": [],
   "source": [
    "from custom_env import GoalPlanEnv\n",
    "from util import UserProfile, create_one_hot\n",
    "from reward import reward_function\n",
    "from distributions import GBM"
   ]
  },
  {
   "cell_type": "code",
   "execution_count": 51,
   "id": "c721d5d7-d130-4252-a5c4-ae230936a854",
   "metadata": {},
   "outputs": [],
   "source": [
    "import numpy as np\n",
    "import itertools\n",
    "from math import exp\n",
    "import time\n",
    "import random\n",
    "import json\n",
    "import pandas as pd\n",
    "import gym\n",
    "import datetime as dt\n",
    "import torch as th"
   ]
  },
  {
   "cell_type": "code",
   "execution_count": 52,
   "id": "4dff582a-c17c-40c3-8189-9f20ac0c3a46",
   "metadata": {},
   "outputs": [],
   "source": [
    "%load_ext autoreload\n",
    "%autoreload 2"
   ]
  },
  {
   "cell_type": "code",
   "execution_count": 53,
   "id": "5f097207-b8ea-48d2-967d-dd7304148906",
   "metadata": {},
   "outputs": [],
   "source": [
    "usr = UserProfile (1_000_000, 10, 200_000, 50_000,  True, 0.03, 0.09, 0.15)\n",
    "one_hot = create_one_hot(usr.target_year)"
   ]
  },
  {
   "cell_type": "code",
   "execution_count": 54,
   "id": "201e38ba-93e9-497d-892f-b1ad47e22702",
   "metadata": {},
   "outputs": [],
   "source": [
    "env = GoalPlanEnv(usr, one_hot)"
   ]
  }
 ],
 "metadata": {
  "kernelspec": {
   "display_name": "Python 3 (ipykernel)",
   "language": "python",
   "name": "python3"
  },
  "language_info": {
   "codemirror_mode": {
    "name": "ipython",
    "version": 3
   },
   "file_extension": ".py",
   "mimetype": "text/x-python",
   "name": "python",
   "nbconvert_exporter": "python",
   "pygments_lexer": "ipython3",
   "version": "3.10.4"
  }
 },
 "nbformat": 4,
 "nbformat_minor": 5
}
